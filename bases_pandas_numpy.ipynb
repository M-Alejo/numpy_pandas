{
 "cells": [
  {
   "attachments": {},
   "cell_type": "markdown",
   "metadata": {},
   "source": [
    "# Notas de curso manejo de datos con NumPy y Pandas"
   ]
  },
  {
   "attachments": {},
   "cell_type": "markdown",
   "metadata": {},
   "source": [
    "## NumPy\n",
    "\n",
    "* Se instala con el comando pip install numpy\n",
    "* Se importa con el comando import numpy as np\n"
   ]
  },
  {
   "attachments": {},
   "cell_type": "markdown",
   "metadata": {},
   "source": [
    "### Array de numpy\n",
    "\n",
    "* Es la estructura central de NumPy\n",
    "* Representa datos de una manera estructurada\n",
    "* Indexado que facilita la consulta de datos\n",
    "* Facilita el acceso a uno o muchos elementos\n"
   ]
  },
  {
   "cell_type": "code",
   "execution_count": 11,
   "metadata": {},
   "outputs": [],
   "source": [
    "# importar numpy\n",
    "import numpy as np\n"
   ]
  },
  {
   "cell_type": "code",
   "execution_count": 12,
   "metadata": {},
   "outputs": [
    {
     "data": {
      "text/plain": [
       "[1, 2, 3, 4, 5, 6, 7, 8, 9]"
      ]
     },
     "execution_count": 12,
     "metadata": {},
     "output_type": "execute_result"
    }
   ],
   "source": [
    "# crear una lista corriente de python\n",
    "lista = [1,2,3,4,5,6,7,8,9]\n",
    "lista\n"
   ]
  },
  {
   "cell_type": "code",
   "execution_count": 13,
   "metadata": {},
   "outputs": [],
   "source": [
    "# llevar la lista a un array de python\n",
    "arr = np.array(lista)\n"
   ]
  },
  {
   "cell_type": "code",
   "execution_count": 14,
   "metadata": {},
   "outputs": [
    {
     "data": {
      "text/plain": [
       "array([[1, 2, 3],\n",
       "       [4, 5, 6],\n",
       "       [7, 8, 9]])"
      ]
     },
     "execution_count": 14,
     "metadata": {},
     "output_type": "execute_result"
    }
   ],
   "source": [
    "# se crea una matriz con listas de python\n",
    "matriz = [[1, 2, 3],[4, 5, 6],[7, 8, 9]]\n",
    "\n",
    "# se convierte la matriz en array\n",
    "matriz = np.array(matriz)\n",
    "matriz\n"
   ]
  },
  {
   "attachments": {},
   "cell_type": "markdown",
   "metadata": {},
   "source": [
    "#### Indexing\n",
    "Se usa para acceder a una posición específica del array"
   ]
  },
  {
   "cell_type": "code",
   "execution_count": 15,
   "metadata": {},
   "outputs": [
    {
     "data": {
      "text/plain": [
       "1"
      ]
     },
     "execution_count": 15,
     "metadata": {},
     "output_type": "execute_result"
    }
   ],
   "source": [
    "# los indexados se manejan con posiciones en el array y empiezan desde cero\n",
    "\n",
    "arr[0] # devuelve la primera posicion del array\n"
   ]
  },
  {
   "cell_type": "code",
   "execution_count": 16,
   "metadata": {},
   "outputs": [
    {
     "data": {
      "text/plain": [
       "array([1, 2, 3])"
      ]
     },
     "execution_count": 16,
     "metadata": {},
     "output_type": "execute_result"
    }
   ],
   "source": [
    "# cuando son array que vienen de matrices [0] devuelve la primera fila\n",
    "matriz[0]\n"
   ]
  },
  {
   "cell_type": "code",
   "execution_count": 17,
   "metadata": {},
   "outputs": [
    {
     "data": {
      "text/plain": [
       "3"
      ]
     },
     "execution_count": 17,
     "metadata": {},
     "output_type": "execute_result"
    }
   ],
   "source": [
    "# para acceder a un valor especifico fila, columna se pone [fila, columna]\n",
    "matriz[0,2] # devuelve de la primera fila, el tercer elemento\n"
   ]
  },
  {
   "attachments": {},
   "cell_type": "markdown",
   "metadata": {},
   "source": [
    "#### Slicing\n",
    "Se usa para acceder a varios valores de un array al tiempo"
   ]
  },
  {
   "cell_type": "code",
   "execution_count": 19,
   "metadata": {},
   "outputs": [
    {
     "data": {
      "text/plain": [
       "array([1, 2, 3])"
      ]
     },
     "execution_count": 19,
     "metadata": {},
     "output_type": "execute_result"
    }
   ],
   "source": [
    "# selecciona desde la posicion inicio hasta fin menos uno [inicio:fin], así [0,3] devuelve desde la posicion cero hasta la posicion 2\n",
    "arr[0:3]\n"
   ]
  },
  {
   "cell_type": "code",
   "execution_count": 20,
   "metadata": {},
   "outputs": [
    {
     "data": {
      "text/plain": [
       "array([1, 2, 3, 4, 5])"
      ]
     },
     "execution_count": 20,
     "metadata": {},
     "output_type": "execute_result"
    }
   ],
   "source": [
    "# Si no se indica un valor de inicio, devuleve desde la posicion cero \n",
    "arr[:5]\n"
   ]
  },
  {
   "cell_type": "code",
   "execution_count": 21,
   "metadata": {},
   "outputs": [
    {
     "data": {
      "text/plain": [
       "array([3, 4, 5, 6, 7, 8, 9])"
      ]
     },
     "execution_count": 21,
     "metadata": {},
     "output_type": "execute_result"
    }
   ],
   "source": [
    "# Si no se indica un valor de fin, devuleve desde la posicion inicio hasta la ultima posicion\n",
    "arr[2:]\n"
   ]
  },
  {
   "cell_type": "code",
   "execution_count": 22,
   "metadata": {},
   "outputs": [
    {
     "data": {
      "text/plain": [
       "array([1, 2, 3, 4, 5, 6, 7, 8, 9])"
      ]
     },
     "execution_count": 22,
     "metadata": {},
     "output_type": "execute_result"
    }
   ],
   "source": [
    "# Si no se indica inicio ni fin devuelve todo\n",
    "arr[:]\n"
   ]
  },
  {
   "cell_type": "code",
   "execution_count": 23,
   "metadata": {},
   "outputs": [
    {
     "data": {
      "text/plain": [
       "array([[4, 5],\n",
       "       [7, 8]])"
      ]
     },
     "execution_count": 23,
     "metadata": {},
     "output_type": "execute_result"
    }
   ],
   "source": [
    "# Tambien se puede usar slicing en matrices [inicio:fin, inicio:fin] a la izquierda de la coma son las filas y a la derecha de la coma son las columnas\n",
    "matriz[1:,0:2]\n"
   ]
  },
  {
   "attachments": {},
   "cell_type": "markdown",
   "metadata": {},
   "source": [
    "### Tipos de datos en NumPy\n",
    "Se usa la propiedad dtype de los objetos array, también se puede usar el método astype(np.tipo_dato), todo el array queda con el mismo tipo de dato, no se pueden mezclar número y texto"
   ]
  },
  {
   "cell_type": "code",
   "execution_count": 24,
   "metadata": {},
   "outputs": [
    {
     "data": {
      "text/plain": [
       "array([1, 2, 3, 4])"
      ]
     },
     "execution_count": 24,
     "metadata": {},
     "output_type": "execute_result"
    }
   ],
   "source": [
    "# se crea un array\n",
    "arr = np.array([1, 2, 3, 4])\n",
    "arr\n"
   ]
  },
  {
   "cell_type": "code",
   "execution_count": 25,
   "metadata": {},
   "outputs": [
    {
     "data": {
      "text/plain": [
       "dtype('int64')"
      ]
     },
     "execution_count": 25,
     "metadata": {},
     "output_type": "execute_result"
    }
   ],
   "source": [
    "# dtype devuleve el tipo de dato que esta almacenado\n",
    "arr.dtype\n"
   ]
  },
  {
   "cell_type": "code",
   "execution_count": 26,
   "metadata": {},
   "outputs": [
    {
     "data": {
      "text/plain": [
       "dtype('float64')"
      ]
     },
     "execution_count": 26,
     "metadata": {},
     "output_type": "execute_result"
    }
   ],
   "source": [
    "# Se puede definir el dtype al crear el array\n",
    "arr = np.array([1, 2, 3, 4], dtype='float64')\n",
    "arr.dtype\n"
   ]
  },
  {
   "cell_type": "code",
   "execution_count": 28,
   "metadata": {},
   "outputs": [
    {
     "data": {
      "text/plain": [
       "dtype('float64')"
      ]
     },
     "execution_count": 28,
     "metadata": {},
     "output_type": "execute_result"
    }
   ],
   "source": [
    "# tambien se puede definir el tipo con el metodo astype\n",
    "arr2 = np.array([1, 2, 3, 4])\n",
    "arr2 = arr2.astype(np.float64)\n",
    "arr2.dtype\n"
   ]
  },
  {
   "attachments": {},
   "cell_type": "markdown",
   "metadata": {},
   "source": [
    "### Dimensiones en NumPy\n",
    "Se accede al número de dimensiones con la propiedad ndim de los array\n",
    "* Escalar, cuando es solo un valor o dimensión 0\n",
    "* Vector, cuando es una fila o una columna dimmensión 1\n",
    "* Matriz, cuando es fila y columna hasta la dimensión 3\n",
    "* Tensor, cuando tiene dimensión n,n"
   ]
  },
  {
   "cell_type": "code",
   "execution_count": 34,
   "metadata": {},
   "outputs": [
    {
     "name": "stdout",
     "output_type": "stream",
     "text": [
      "42\n",
      "dimensión: 0\n"
     ]
    }
   ],
   "source": [
    "# definir un escalar\n",
    "escalar = np.array(42)\n",
    "print(escalar)\n",
    "print('dimensión: '+ str(escalar.ndim))\n"
   ]
  },
  {
   "cell_type": "code",
   "execution_count": 35,
   "metadata": {},
   "outputs": [
    {
     "name": "stdout",
     "output_type": "stream",
     "text": [
      "[1 2 3]\n",
      "dimensión: 1\n"
     ]
    }
   ],
   "source": [
    "# definir un vector\n",
    "vector = np.array([1,2,3])\n",
    "print(vector)\n",
    "print('dimensión: '+ str(vector.ndim))\n"
   ]
  },
  {
   "cell_type": "code",
   "execution_count": 36,
   "metadata": {},
   "outputs": [
    {
     "name": "stdout",
     "output_type": "stream",
     "text": [
      "[[1 2 3]\n",
      " [4 5 6]]\n",
      "dimensión: 2\n"
     ]
    }
   ],
   "source": [
    "# definir una matriz\n",
    "matriz2 = np.array([[1,2,3],[4,5,6]])\n",
    "print(matriz2)\n",
    "print('dimensión: '+ str(matriz2.ndim))\n"
   ]
  },
  {
   "cell_type": "code",
   "execution_count": 38,
   "metadata": {},
   "outputs": [
    {
     "name": "stdout",
     "output_type": "stream",
     "text": [
      "[[[ 1  2  3]\n",
      "  [ 4  5  6]]\n",
      "\n",
      " [[ 7  8  9]\n",
      "  [10 11 12]]]\n",
      "dimensión: 3\n"
     ]
    }
   ],
   "source": [
    "# definir un tensor\n",
    "tensor = np.array([[[1,2,3],[4,5,6]],[[7,8,9],[10,11,12]]])\n",
    "print(tensor)\n",
    "print('dimensión: '+ str(tensor.ndim))\n"
   ]
  },
  {
   "attachments": {},
   "cell_type": "markdown",
   "metadata": {},
   "source": [
    "#### Agregar o quitar dimensiones\n",
    "Se pueden definir el número de dimensiones desde el inicio o agregar a un objeto que ya existe"
   ]
  },
  {
   "cell_type": "code",
   "execution_count": 42,
   "metadata": {},
   "outputs": [
    {
     "name": "stdout",
     "output_type": "stream",
     "text": [
      "[[[1 2 3]]]\n",
      "dimensión: 3\n"
     ]
    }
   ],
   "source": [
    "# en este ejemplo se esta definiendo un tensor de tres dimensiones\n",
    "tensor_3d = np.array([1,2,3], ndmin=3)\n",
    "print(tensor_3d)\n",
    "print('dimensión: '+ str(tensor_3d.ndim))\n"
   ]
  },
  {
   "cell_type": "code",
   "execution_count": 79,
   "metadata": {},
   "outputs": [
    {
     "name": "stdout",
     "output_type": "stream",
     "text": [
      "[[1 2 3]]\n",
      "dimensión: 2\n"
     ]
    }
   ],
   "source": [
    "# en este ejemplo se expande la dimension de un vector ya creado\n",
    "matriz_2d = np.expand_dims(vector, axis=0) #axis 0 es fila, axis 1 es columna\n",
    "print(matriz_2d)\n",
    "print('dimensión: '+ str(matriz_2d.ndim))\n"
   ]
  },
  {
   "attachments": {},
   "cell_type": "markdown",
   "metadata": {},
   "source": [
    "Con la funcion np.squeeze() se dejan los datos con el número de dimensiones que se están usando"
   ]
  },
  {
   "cell_type": "code",
   "execution_count": 44,
   "metadata": {},
   "outputs": [
    {
     "name": "stdout",
     "output_type": "stream",
     "text": [
      "[[1 2 3]] 2\n",
      "[1 2 3] 1\n"
     ]
    }
   ],
   "source": [
    "# vamos a quitarle la dimension que tiene de mas matriz_2d\n",
    "print(matriz_2d, matriz_2d.ndim)\n",
    "vector_1d = np.squeeze(matriz_2d)\n",
    "print(vector_1d, vector_1d.ndim)\n"
   ]
  },
  {
   "attachments": {},
   "cell_type": "markdown",
   "metadata": {},
   "source": [
    "### Creando arrays con NumPy\n",
    "* para rango de valores np.arange(inicio, fin, step)\n",
    "* para crear un array lleno de ceros np.zeros((nfilas, ncolumnas))\n",
    "* para crear un array lleno de unos np.ones((nfilas, ncolumnas))\n",
    "* para crear un array con valor inicio, valor final y cuantos valores en ese rango np.linespace(v_inicio, v_final, cantidad_valores)\n",
    "* para crear una matriz cuadrada con la diagonal con valores 1 np.eye(valor)\n",
    "* para crear un array con x cantidad de valores aleatorios entre cero y uno np.random.rand(x)\n",
    "* para crear una matriz con x cantidad de filas e y cantidad de columnas con valores aleatorios entre cero y uno np.random.rand(nfilas, ncolumnas)\n",
    "* para generar un valor aleatorio en un rango de datos dado np.random.randint(min, max)\n",
    "* para generar una matriz con nfilas, mcolumnas y valores aleatorios en un rango dado np.random.randint(min, max,(nfilas,ncolumnas))"
   ]
  },
  {
   "cell_type": "code",
   "execution_count": 45,
   "metadata": {},
   "outputs": [
    {
     "data": {
      "text/plain": [
       "[0, 1, 2, 3, 4, 5, 6, 7, 8, 9]"
      ]
     },
     "execution_count": 45,
     "metadata": {},
     "output_type": "execute_result"
    }
   ],
   "source": [
    "# crear un rango de valores con python, sin usar numpy\n",
    "list(range(0,10)) # crea lista con valores de 0 a 9\n"
   ]
  },
  {
   "cell_type": "code",
   "execution_count": 46,
   "metadata": {},
   "outputs": [
    {
     "data": {
      "text/plain": [
       "array([0, 1, 2, 3, 4, 5, 6, 7, 8, 9])"
      ]
     },
     "execution_count": 46,
     "metadata": {},
     "output_type": "execute_result"
    }
   ],
   "source": [
    "# crear rango con numpy\n",
    "np.arange(0,10)\n"
   ]
  },
  {
   "cell_type": "code",
   "execution_count": 48,
   "metadata": {},
   "outputs": [
    {
     "data": {
      "text/plain": [
       "array([0, 2, 4, 6, 8])"
      ]
     },
     "execution_count": 48,
     "metadata": {},
     "output_type": "execute_result"
    }
   ],
   "source": [
    "# crear rango con numpy usando step\n",
    "np.arange(0,10,2) # crea un array con valores entre cero y 9, de dos en dos, el resultado es 0,2,4,6,8\n"
   ]
  },
  {
   "cell_type": "code",
   "execution_count": 49,
   "metadata": {},
   "outputs": [
    {
     "data": {
      "text/plain": [
       "array([0., 0., 0., 0., 0.])"
      ]
     },
     "execution_count": 49,
     "metadata": {},
     "output_type": "execute_result"
    }
   ],
   "source": [
    "# crear un vector con cinco ceros\n",
    "np.zeros(5)\n"
   ]
  },
  {
   "cell_type": "code",
   "execution_count": 54,
   "metadata": {},
   "outputs": [
    {
     "data": {
      "text/plain": [
       "array([[0., 0., 0.],\n",
       "       [0., 0., 0.],\n",
       "       [0., 0., 0.]])"
      ]
     },
     "execution_count": 54,
     "metadata": {},
     "output_type": "execute_result"
    }
   ],
   "source": [
    "# crear una matriz de 3x3 con ceros\n",
    "np.zeros((3,3))\n"
   ]
  },
  {
   "cell_type": "code",
   "execution_count": 55,
   "metadata": {},
   "outputs": [
    {
     "data": {
      "text/plain": [
       "array([[1., 1., 1.],\n",
       "       [1., 1., 1.],\n",
       "       [1., 1., 1.]])"
      ]
     },
     "execution_count": 55,
     "metadata": {},
     "output_type": "execute_result"
    }
   ],
   "source": [
    "# crear una matriz de 3x3 con unos\n",
    "np.ones((3,3))\n"
   ]
  },
  {
   "cell_type": "code",
   "execution_count": 62,
   "metadata": {},
   "outputs": [
    {
     "data": {
      "text/plain": [
       "array([ 0. ,  2.5,  5. ,  7.5, 10. ])"
      ]
     },
     "execution_count": 62,
     "metadata": {},
     "output_type": "execute_result"
    }
   ],
   "source": [
    "# vector con 5 datos que empieza en cero y termina en 10\n",
    "np.linspace(0, 10, 5)\n"
   ]
  },
  {
   "cell_type": "code",
   "execution_count": 64,
   "metadata": {},
   "outputs": [
    {
     "data": {
      "text/plain": [
       "array([[1., 0., 0., 0.],\n",
       "       [0., 1., 0., 0.],\n",
       "       [0., 0., 1., 0.],\n",
       "       [0., 0., 0., 1.]])"
      ]
     },
     "execution_count": 64,
     "metadata": {},
     "output_type": "execute_result"
    }
   ],
   "source": [
    "# crea una matriz de 4x4 con la diagonal 1\n",
    "np.eye(4)\n"
   ]
  },
  {
   "cell_type": "code",
   "execution_count": 65,
   "metadata": {},
   "outputs": [
    {
     "data": {
      "text/plain": [
       "array([0.71392013, 0.14385286, 0.07828336, 0.93864591])"
      ]
     },
     "execution_count": 65,
     "metadata": {},
     "output_type": "execute_result"
    }
   ],
   "source": [
    "# genera un array de 4 valores aleatorios entre 0 y 1\n",
    "np.random.rand(4)\n"
   ]
  },
  {
   "cell_type": "code",
   "execution_count": 66,
   "metadata": {},
   "outputs": [
    {
     "data": {
      "text/plain": [
       "array([[0.29792367, 0.27684137, 0.73198762, 0.83870075],\n",
       "       [0.75821343, 0.17156779, 0.29180399, 0.27205581],\n",
       "       [0.65638727, 0.30776123, 0.40080569, 0.50895605],\n",
       "       [0.39784848, 0.75865439, 0.20580868, 0.79414827]])"
      ]
     },
     "execution_count": 66,
     "metadata": {},
     "output_type": "execute_result"
    }
   ],
   "source": [
    "# genera una matriz de 4x4 con valores aleatorios entre 0 y 1\n",
    "np.random.rand(4,4)\n"
   ]
  },
  {
   "cell_type": "code",
   "execution_count": 67,
   "metadata": {},
   "outputs": [
    {
     "data": {
      "text/plain": [
       "7"
      ]
     },
     "execution_count": 67,
     "metadata": {},
     "output_type": "execute_result"
    }
   ],
   "source": [
    "# genera un valor aleatorio en n rango dado\n",
    "np.random.randint(1, 15)\n"
   ]
  },
  {
   "cell_type": "code",
   "execution_count": 68,
   "metadata": {},
   "outputs": [
    {
     "data": {
      "text/plain": [
       "array([[ 6, 10,  4,  9],\n",
       "       [ 9,  3, 13, 14],\n",
       "       [ 2,  3, 11,  8],\n",
       "       [13, 14, 11,  9]])"
      ]
     },
     "execution_count": 68,
     "metadata": {},
     "output_type": "execute_result"
    }
   ],
   "source": [
    "# genera una matriz de 4x4 con valores aleatorios en un rango entre 1 y 15\n",
    "np.random.randint(1,15,(4,4))"
   ]
  },
  {
   "attachments": {},
   "cell_type": "markdown",
   "metadata": {},
   "source": [
    "### Modificar dimensiones de arrays con NumPy - shape y reshape\n",
    "Al modificar los array debe mantener la cantidad de datos inicial nfilas x mcolumnas\n",
    "* la propiedad shape me dice numero de filas y columnas\n",
    "* el método reshape sirve para cambiar las dimensiones del array\n",
    "* se puede usar también la función np.reshape(array, (nfilas, ncolumnas), 'lenguaje')"
   ]
  },
  {
   "cell_type": "code",
   "execution_count": 71,
   "metadata": {},
   "outputs": [
    {
     "data": {
      "text/plain": [
       "array([[6, 1],\n",
       "       [6, 8],\n",
       "       [7, 4]])"
      ]
     },
     "execution_count": 71,
     "metadata": {},
     "output_type": "execute_result"
    }
   ],
   "source": [
    "# crea un array de 3x2 con valores aleatorios entre 1 y 10\n",
    "arr = np.random.randint(1,10,(3,2))\n",
    "arr\n"
   ]
  },
  {
   "cell_type": "code",
   "execution_count": 72,
   "metadata": {},
   "outputs": [
    {
     "data": {
      "text/plain": [
       "(3, 2)"
      ]
     },
     "execution_count": 72,
     "metadata": {},
     "output_type": "execute_result"
    }
   ],
   "source": [
    "# conocer numero de filas y columnas\n",
    "arr.shape\n"
   ]
  },
  {
   "cell_type": "code",
   "execution_count": 73,
   "metadata": {},
   "outputs": [
    {
     "data": {
      "text/plain": [
       "array([[6, 1, 6, 8, 7, 4]])"
      ]
     },
     "execution_count": 73,
     "metadata": {},
     "output_type": "execute_result"
    }
   ],
   "source": [
    "# cambiar array de 3x2 a 1x6\n",
    "arr.reshape(1,6)\n"
   ]
  },
  {
   "cell_type": "code",
   "execution_count": 76,
   "metadata": {},
   "outputs": [
    {
     "data": {
      "text/plain": [
       "array([[6, 1],\n",
       "       [6, 8],\n",
       "       [7, 4]])"
      ]
     },
     "execution_count": 76,
     "metadata": {},
     "output_type": "execute_result"
    }
   ],
   "source": [
    "arr"
   ]
  },
  {
   "cell_type": "code",
   "execution_count": 74,
   "metadata": {},
   "outputs": [
    {
     "data": {
      "text/plain": [
       "array([[6, 1, 6, 8, 7, 4]])"
      ]
     },
     "execution_count": 74,
     "metadata": {},
     "output_type": "execute_result"
    }
   ],
   "source": [
    "# cambia el array de 3x2 a 1x6 como lo haría el lenguaje C, que organiza por filas\n",
    "np.reshape(arr, (1,6), 'C')\n"
   ]
  },
  {
   "cell_type": "code",
   "execution_count": 75,
   "metadata": {},
   "outputs": [
    {
     "data": {
      "text/plain": [
       "array([[6, 6, 7, 1, 8, 4]])"
      ]
     },
     "execution_count": 75,
     "metadata": {},
     "output_type": "execute_result"
    }
   ],
   "source": [
    "# cambia el array de 3x2 a 1x6 como lo haría el lenguaje Fortrant, que organiza por columnas\n",
    "np.reshape(arr, (1,6), 'F')\n"
   ]
  },
  {
   "attachments": {},
   "cell_type": "markdown",
   "metadata": {},
   "source": [
    "### Funciones principales de NumPy\n",
    "* obtener valores máximos array.max()\n",
    "* obtener valores máximos por fila array.max(1)\n",
    "* obtener valores máximos por columna array.max(0)\n",
    "* obtener el índice o posición de donde se encuentra el valor máximo del array array.argmax()\n",
    "* obtener valores mínimos array.max()\n",
    "* obtener valores mínimos por fila array.max(1)\n",
    "* obtener valores mínimos por columna array.max(0)\n",
    "* obtener el índice o posición de donde se encuentra el valor mínimo del array array.argmin()\n",
    "* obtener la distancia entre el valor máximo y mínimos del array array.ptp()\n",
    "* organizar los datos de menor a mayor array.sort()\n",
    "* para concatenar dos array deben tener las mismas dimensiones np.concatenate((array_1, array_2),axis=) axis=0 es por fila, axis=1 es por columna\n"
   ]
  },
  {
   "cell_type": "code",
   "execution_count": 81,
   "metadata": {},
   "outputs": [
    {
     "data": {
      "text/plain": [
       "array([18,  8,  1,  1, 12,  4, 12, 12, 13,  3])"
      ]
     },
     "execution_count": 81,
     "metadata": {},
     "output_type": "execute_result"
    }
   ],
   "source": [
    "# se crea un array\n",
    "arr = np.random.randint(1,20,10)\n",
    "arr"
   ]
  },
  {
   "cell_type": "code",
   "execution_count": 82,
   "metadata": {},
   "outputs": [
    {
     "data": {
      "text/plain": [
       "array([[18,  8,  1,  1, 12],\n",
       "       [ 4, 12, 12, 13,  3]])"
      ]
     },
     "execution_count": 82,
     "metadata": {},
     "output_type": "execute_result"
    }
   ],
   "source": [
    "# convertir en matriz el array\n",
    "matriz = arr.reshape(2,5)\n",
    "matriz"
   ]
  },
  {
   "cell_type": "code",
   "execution_count": 83,
   "metadata": {},
   "outputs": [
    {
     "name": "stdout",
     "output_type": "stream",
     "text": [
      "18\n",
      "18\n"
     ]
    }
   ],
   "source": [
    "# obtener maximo de todo el conjunto de datos\n",
    "print(arr.max())\n",
    "print(matriz.max())\n"
   ]
  },
  {
   "cell_type": "code",
   "execution_count": 84,
   "metadata": {},
   "outputs": [
    {
     "data": {
      "text/plain": [
       "array([18, 13])"
      ]
     },
     "execution_count": 84,
     "metadata": {},
     "output_type": "execute_result"
    }
   ],
   "source": [
    "# obtener maximo por filas d ela matriz\n",
    "matriz.max(1)\n"
   ]
  },
  {
   "cell_type": "code",
   "execution_count": 85,
   "metadata": {},
   "outputs": [
    {
     "data": {
      "text/plain": [
       "array([18, 12, 12, 13, 12])"
      ]
     },
     "execution_count": 85,
     "metadata": {},
     "output_type": "execute_result"
    }
   ],
   "source": [
    "# obtener el maximo por columnas\n",
    "matriz.max(0)\n"
   ]
  },
  {
   "cell_type": "code",
   "execution_count": 86,
   "metadata": {},
   "outputs": [
    {
     "data": {
      "text/plain": [
       "0"
      ]
     },
     "execution_count": 86,
     "metadata": {},
     "output_type": "execute_result"
    }
   ],
   "source": [
    "# obtiene la posicion en donde se encuentra el valor maximo\n",
    "arr.argmax()\n"
   ]
  },
  {
   "cell_type": "code",
   "execution_count": 87,
   "metadata": {},
   "outputs": [
    {
     "data": {
      "text/plain": [
       "0"
      ]
     },
     "execution_count": 87,
     "metadata": {},
     "output_type": "execute_result"
    }
   ],
   "source": [
    "# obtiene la posicion en donde se encuentra el valor maximo\n",
    "matriz.argmax()\n"
   ]
  },
  {
   "cell_type": "code",
   "execution_count": 89,
   "metadata": {},
   "outputs": [
    {
     "data": {
      "text/plain": [
       "array([[18,  8,  1,  1, 12],\n",
       "       [ 4, 12, 12, 13,  3]])"
      ]
     },
     "execution_count": 89,
     "metadata": {},
     "output_type": "execute_result"
    }
   ],
   "source": [
    "matriz\n"
   ]
  },
  {
   "cell_type": "code",
   "execution_count": 88,
   "metadata": {},
   "outputs": [
    {
     "data": {
      "text/plain": [
       "17"
      ]
     },
     "execution_count": 88,
     "metadata": {},
     "output_type": "execute_result"
    }
   ],
   "source": [
    "# obtener la distancia entre el valor maximo y minimo de la matriz, es como obtener el rango\n",
    "matriz.ptp()\n"
   ]
  },
  {
   "cell_type": "code",
   "execution_count": 90,
   "metadata": {},
   "outputs": [
    {
     "data": {
      "text/plain": [
       "array([17, 10])"
      ]
     },
     "execution_count": 90,
     "metadata": {},
     "output_type": "execute_result"
    }
   ],
   "source": [
    "# obtiene la distancia entre el valor maximo y minimo de la matriz por filas\n",
    "matriz.ptp(1)"
   ]
  },
  {
   "cell_type": "code",
   "execution_count": 91,
   "metadata": {},
   "outputs": [
    {
     "data": {
      "text/plain": [
       "array([14,  4, 11, 12,  9])"
      ]
     },
     "execution_count": 91,
     "metadata": {},
     "output_type": "execute_result"
    }
   ],
   "source": [
    "# obtiene la distancia entre el valor maximo y minimo de la matriz por columnas\n",
    "matriz.ptp(0)"
   ]
  },
  {
   "cell_type": "code",
   "execution_count": 93,
   "metadata": {},
   "outputs": [
    {
     "data": {
      "text/plain": [
       "array([ 1,  1,  3,  4,  8, 12, 12, 12, 13, 18])"
      ]
     },
     "execution_count": 93,
     "metadata": {},
     "output_type": "execute_result"
    }
   ],
   "source": [
    "# organiza los datos del array de menor a mayor\n",
    "arr.sort()\n",
    "arr"
   ]
  },
  {
   "cell_type": "code",
   "execution_count": 110,
   "metadata": {},
   "outputs": [
    {
     "data": {
      "text/plain": [
       "2"
      ]
     },
     "execution_count": 110,
     "metadata": {},
     "output_type": "execute_result"
    }
   ],
   "source": [
    "# crear dos array por fila\n",
    "a = np.array([[1,2],[3,4]])\n",
    "b = np.array([5,6])\n",
    "a.ndim\n"
   ]
  },
  {
   "cell_type": "code",
   "execution_count": 111,
   "metadata": {},
   "outputs": [
    {
     "data": {
      "text/plain": [
       "2"
      ]
     },
     "execution_count": 111,
     "metadata": {},
     "output_type": "execute_result"
    }
   ],
   "source": [
    "# aumentar una dimension de b para luego concatenar por fila con a\n",
    "b = np.expand_dims(b,0)\n",
    "b.ndim"
   ]
  },
  {
   "cell_type": "code",
   "execution_count": 112,
   "metadata": {},
   "outputs": [
    {
     "data": {
      "text/plain": [
       "array([[1, 2],\n",
       "       [3, 4],\n",
       "       [5, 6]])"
      ]
     },
     "execution_count": 112,
     "metadata": {},
     "output_type": "execute_result"
    }
   ],
   "source": [
    "# concatenar a y b por fila\n",
    "c = np.concatenate((a,b),axis=0) #axis=0 indica que es por fila\n",
    "c"
   ]
  },
  {
   "cell_type": "code",
   "execution_count": 116,
   "metadata": {},
   "outputs": [
    {
     "data": {
      "text/plain": [
       "array([[1, 2, 5],\n",
       "       [3, 4, 6]])"
      ]
     },
     "execution_count": 116,
     "metadata": {},
     "output_type": "execute_result"
    }
   ],
   "source": [
    "# concatenar a y b por columna, se debe transponer b\n",
    "d = np.concatenate((a, b.T), axis=1) # axis=1 indica que es por columna\n",
    "d"
   ]
  }
 ],
 "metadata": {
  "kernelspec": {
   "display_name": "data_analisis",
   "language": "python",
   "name": "python3"
  },
  "language_info": {
   "codemirror_mode": {
    "name": "ipython",
    "version": 3
   },
   "file_extension": ".py",
   "mimetype": "text/x-python",
   "name": "python",
   "nbconvert_exporter": "python",
   "pygments_lexer": "ipython3",
   "version": "3.11.3"
  },
  "orig_nbformat": 4
 },
 "nbformat": 4,
 "nbformat_minor": 2
}
